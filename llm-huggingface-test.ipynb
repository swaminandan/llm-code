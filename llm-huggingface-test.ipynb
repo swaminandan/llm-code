{
 "cells": [
  {
   "cell_type": "code",
   "execution_count": null,
   "id": "91ef57a4",
   "metadata": {
    "vscode": {
     "languageId": "plaintext"
    }
   },
   "outputs": [],
   "source": [
    "%pip install datasets evaluate transformers[sentencepiece]"
   ]
  }
 ],
 "metadata": {
  "language_info": {
   "name": "python"
  }
 },
 "nbformat": 4,
 "nbformat_minor": 5
}
